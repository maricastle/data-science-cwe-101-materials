{
 "cells": [
  {
   "cell_type": "markdown",
   "metadata": {},
   "source": [
    "# Data Science 101 - Guided Practice"
   ]
  },
  {
   "cell_type": "markdown",
   "metadata": {},
   "source": [
    "Dr J Rogel-Salazar\n",
    "\n",
    "[j.rogel.datascience@gmail.com](mailto:j.rogel.datascience@gmail.com)"
   ]
  },
  {
   "cell_type": "markdown",
   "metadata": {},
   "source": [
    "Imagine that after you are working as a sales analyst for a brand with presence in the US.\n",
    "\n",
    "You are asked to look at regional sales data from your vendors and you want to use your newly acquired Python skills...\n",
    "\n",
    "For this guided practice we will create some fake data related to the average income and population of some cities in the US. \n",
    "\n",
    "We will apply the python knowledge we have acquired and see how some popular modules such as pandas, numpy and matplotlib are used."
   ]
  },
  {
   "cell_type": "markdown",
   "metadata": {},
   "source": [
    "We can use the Jupyter interface to invoke functionality from the terminal.\n",
    "\n",
    "For example, we can list the files under the current directory as follows:"
   ]
  },
  {
   "cell_type": "code",
   "execution_count": 5,
   "metadata": {
    "collapsed": false
   },
   "outputs": [
    {
     "name": "stdout",
     "output_type": "stream",
     "text": [
      "Requirement already satisfied (use --upgrade to upgrade): pandas in /Users/bilindhajer/anaconda/lib/python2.7/site-packages\r\n",
      "Requirement already satisfied (use --upgrade to upgrade): python-dateutil in /Users/bilindhajer/anaconda/lib/python2.7/site-packages (from pandas)\r\n",
      "Requirement already satisfied (use --upgrade to upgrade): pytz>=2011k in /Users/bilindhajer/anaconda/lib/python2.7/site-packages (from pandas)\r\n",
      "Requirement already satisfied (use --upgrade to upgrade): numpy>=1.7.0 in /Users/bilindhajer/anaconda/lib/python2.7/site-packages (from pandas)\r\n",
      "Requirement already satisfied (use --upgrade to upgrade): six>=1.5 in /Users/bilindhajer/anaconda/lib/python2.7/site-packages/six-1.10.0-py2.7.egg (from python-dateutil->pandas)\r\n"
     ]
    }
   ],
   "source": [
    "# !pip install numpy --upgrade\n",
    "#!pip install pandas"
   ]
  },
  {
   "cell_type": "markdown",
   "metadata": {},
   "source": [
    "# Importing packages and modules\n",
    "\n",
    "Let us start by importing packages and modules that will be used in this practice.\n",
    "\n",
    "We will make use of a functions to calculate the average. This is included in the NumPy module.\n",
    "\n",
    "Also we will use pandas to manipulate data organised in a table format. We call this a *dataframe*."
   ]
  },
  {
   "cell_type": "code",
   "execution_count": 10,
   "metadata": {
    "collapsed": false
   },
   "outputs": [],
   "source": [
    "import numpy as np\n",
    "import pandas as pd"
   ]
  },
  {
   "cell_type": "markdown",
   "metadata": {},
   "source": [
    "We will also import a functionality to emable us to show plots in the notebook."
   ]
  },
  {
   "cell_type": "code",
   "execution_count": null,
   "metadata": {
    "collapsed": true
   },
   "outputs": [],
   "source": [
    "%pylab inline"
   ]
  },
  {
   "cell_type": "code",
   "execution_count": 6,
   "metadata": {
    "collapsed": true
   },
   "outputs": [],
   "source": [
    "someList = range(5)"
   ]
  },
  {
   "cell_type": "code",
   "execution_count": 8,
   "metadata": {
    "collapsed": false
   },
   "outputs": [
    {
     "name": "stdout",
     "output_type": "stream",
     "text": [
      "[0, 1, 2, 3, 4]\n",
      "<type 'list'>\n"
     ]
    }
   ],
   "source": [
    "print someList\n",
    "print type(someList)"
   ]
  },
  {
   "cell_type": "markdown",
   "metadata": {},
   "source": [
    "The code above specifies that figures should be shown `inline`, directly in the notebook. This is not available with the standard IPython interpreter.\n",
    "\n",
    "We need to `import` all these libraries at the beginning of the notebook so that they are ready to be used later on. \n",
    "\n",
    "Remember our discussion about algorithms? The logical order of the steps we use to complete a task is important!"
   ]
  },
  {
   "cell_type": "markdown",
   "metadata": {
    "collapsed": false
   },
   "source": [
    "Let us define some lists that can be used to create a pandas dataframe. Let us start by listing the different cities we are interested in:\n"
   ]
  },
  {
   "cell_type": "code",
   "execution_count": 11,
   "metadata": {
    "collapsed": false
   },
   "outputs": [],
   "source": [
    "cities  = pd.Series(['Atlanta','Lilburn','Athens',\n",
    "                     'Auburn','Augusta','NYC','Buffalo','Albany',\n",
    "                     'Miami','Tallahassee'])"
   ]
  },
  {
   "cell_type": "code",
   "execution_count": 13,
   "metadata": {
    "collapsed": false
   },
   "outputs": [],
   "source": [
    "cities2 = pd.Series(['Atlanta','New York City'])"
   ]
  },
  {
   "cell_type": "code",
   "execution_count": 16,
   "metadata": {
    "collapsed": false
   },
   "outputs": [
    {
     "name": "stdout",
     "output_type": "stream",
     "text": [
      "Atlanta\n",
      "New York City\n"
     ]
    }
   ],
   "source": [
    "for x in cities2.tolist():\n",
    "    print x"
   ]
  },
  {
   "cell_type": "markdown",
   "metadata": {},
   "source": [
    "Now the states where these cities are:"
   ]
  },
  {
   "cell_type": "code",
   "execution_count": 14,
   "metadata": {
    "collapsed": true
   },
   "outputs": [],
   "source": [
    "states = pd.Series(['GA','GA','GA','GA','GA',\n",
    "                    \"NY\",\"NY\",\"NY\",\"FL\",\"FL\"])"
   ]
  },
  {
   "cell_type": "markdown",
   "metadata": {
    "collapsed": false
   },
   "source": [
    "Let us now list the average income and population for the cities in question:"
   ]
  },
  {
   "cell_type": "code",
   "execution_count": 19,
   "metadata": {
    "collapsed": false
   },
   "outputs": [],
   "source": [
    "city_avg_incomes = pd.Series([55000,40000,50000,45000,\n",
    "                              30000,60000,57000,56000,65000,40000])\n",
    "\n",
    "city_populations = pd.Series([5000000,250000,100000,\n",
    "                              50000, 200000,6000000,3000000,400000,\n",
    "                              4000000,5000000])"
   ]
  },
  {
   "cell_type": "code",
   "execution_count": 20,
   "metadata": {
    "collapsed": false
   },
   "outputs": [
    {
     "data": {
      "text/plain": [
       "49800.0"
      ]
     },
     "execution_count": 20,
     "metadata": {},
     "output_type": "execute_result"
    }
   ],
   "source": [
    "np.average( city_avg_incomes )"
   ]
  },
  {
   "cell_type": "code",
   "execution_count": 21,
   "metadata": {
    "collapsed": false
   },
   "outputs": [
    {
     "data": {
      "text/plain": [
       "2400000.0"
      ]
     },
     "execution_count": 21,
     "metadata": {},
     "output_type": "execute_result"
    }
   ],
   "source": [
    "np.average( city_populations )"
   ]
  },
  {
   "cell_type": "code",
   "execution_count": 22,
   "metadata": {
    "collapsed": false
   },
   "outputs": [
    {
     "data": {
      "text/plain": [
       "1700000.0"
      ]
     },
     "execution_count": 22,
     "metadata": {},
     "output_type": "execute_result"
    }
   ],
   "source": [
    "np.median( city_populations )"
   ]
  },
  {
   "cell_type": "markdown",
   "metadata": {},
   "source": [
    "### Question\n",
    "\n",
    "Have you noticed that we are using lists to create the series expected by pandas?"
   ]
  },
  {
   "cell_type": "markdown",
   "metadata": {},
   "source": [
    "# Pandas dataframe"
   ]
  },
  {
   "cell_type": "markdown",
   "metadata": {
    "collapsed": false
   },
   "source": [
    "We are now ready to put all the information above in a single dataframe:\n"
   ]
  },
  {
   "cell_type": "code",
   "execution_count": 91,
   "metadata": {
    "collapsed": false
   },
   "outputs": [],
   "source": [
    "city_table = pd.DataFrame( {'cities': cities,  \n",
    "             'states': states,\n",
    "             'city_avg_incomes':city_avg_incomes,\n",
    "             'city_populations':city_populations\n",
    "              } )"
   ]
  },
  {
   "cell_type": "code",
   "execution_count": 99,
   "metadata": {
    "collapsed": false
   },
   "outputs": [
    {
     "data": {
      "text/html": [
       "<div>\n",
       "<table border=\"1\" class=\"dataframe\">\n",
       "  <thead>\n",
       "    <tr style=\"text-align: right;\">\n",
       "      <th></th>\n",
       "      <th>cities</th>\n",
       "      <th>city_avg_incomes</th>\n",
       "      <th>city_populations</th>\n",
       "      <th>states</th>\n",
       "    </tr>\n",
       "  </thead>\n",
       "  <tbody>\n",
       "    <tr>\n",
       "      <th>0</th>\n",
       "      <td>Atlanta</td>\n",
       "      <td>55000</td>\n",
       "      <td>5000000</td>\n",
       "      <td>GA</td>\n",
       "    </tr>\n",
       "    <tr>\n",
       "      <th>1</th>\n",
       "      <td>Lilburn</td>\n",
       "      <td>40000</td>\n",
       "      <td>250000</td>\n",
       "      <td>GA</td>\n",
       "    </tr>\n",
       "    <tr>\n",
       "      <th>2</th>\n",
       "      <td>Athens</td>\n",
       "      <td>50000</td>\n",
       "      <td>100000</td>\n",
       "      <td>GA</td>\n",
       "    </tr>\n",
       "    <tr>\n",
       "      <th>3</th>\n",
       "      <td>Auburn</td>\n",
       "      <td>45000</td>\n",
       "      <td>50000</td>\n",
       "      <td>GA</td>\n",
       "    </tr>\n",
       "    <tr>\n",
       "      <th>4</th>\n",
       "      <td>Augusta</td>\n",
       "      <td>30000</td>\n",
       "      <td>200000</td>\n",
       "      <td>GA</td>\n",
       "    </tr>\n",
       "    <tr>\n",
       "      <th>5</th>\n",
       "      <td>NYC</td>\n",
       "      <td>60000</td>\n",
       "      <td>6000000</td>\n",
       "      <td>NY</td>\n",
       "    </tr>\n",
       "    <tr>\n",
       "      <th>6</th>\n",
       "      <td>Buffalo</td>\n",
       "      <td>57000</td>\n",
       "      <td>3000000</td>\n",
       "      <td>NY</td>\n",
       "    </tr>\n",
       "    <tr>\n",
       "      <th>7</th>\n",
       "      <td>Albany</td>\n",
       "      <td>56000</td>\n",
       "      <td>400000</td>\n",
       "      <td>NY</td>\n",
       "    </tr>\n",
       "    <tr>\n",
       "      <th>8</th>\n",
       "      <td>Miami</td>\n",
       "      <td>65000</td>\n",
       "      <td>4000000</td>\n",
       "      <td>FL</td>\n",
       "    </tr>\n",
       "    <tr>\n",
       "      <th>9</th>\n",
       "      <td>Tallahassee</td>\n",
       "      <td>40000</td>\n",
       "      <td>5000000</td>\n",
       "      <td>FL</td>\n",
       "    </tr>\n",
       "    <tr>\n",
       "      <th>10</th>\n",
       "      <td>Trenton</td>\n",
       "      <td>50000</td>\n",
       "      <td>300000</td>\n",
       "      <td>NJ</td>\n",
       "    </tr>\n",
       "  </tbody>\n",
       "</table>\n",
       "</div>"
      ],
      "text/plain": [
       "         cities  city_avg_incomes  city_populations states\n",
       "0       Atlanta             55000           5000000     GA\n",
       "1       Lilburn             40000            250000     GA\n",
       "2        Athens             50000            100000     GA\n",
       "3        Auburn             45000             50000     GA\n",
       "4       Augusta             30000            200000     GA\n",
       "5           NYC             60000           6000000     NY\n",
       "6       Buffalo             57000           3000000     NY\n",
       "7        Albany             56000            400000     NY\n",
       "8         Miami             65000           4000000     FL\n",
       "9   Tallahassee             40000           5000000     FL\n",
       "10      Trenton             50000            300000     NJ"
      ]
     },
     "execution_count": 99,
     "metadata": {},
     "output_type": "execute_result"
    }
   ],
   "source": [
    "city_table.append( { 'cities' : \"Trenton\", \n",
    "                    'states' : \"NJ\", 'city_avg_incomes' : 50000, \n",
    "                    'city_populations' : 300000 }, ignore_index = True  )"
   ]
  },
  {
   "cell_type": "code",
   "execution_count": 25,
   "metadata": {
    "collapsed": false
   },
   "outputs": [
    {
     "data": {
      "text/plain": [
       "Index([u'cities', u'city_avg_incomes', u'city_populations', u'states'], dtype='object')"
      ]
     },
     "execution_count": 25,
     "metadata": {},
     "output_type": "execute_result"
    }
   ],
   "source": [
    "city_table.columns"
   ]
  },
  {
   "cell_type": "code",
   "execution_count": 26,
   "metadata": {
    "collapsed": false
   },
   "outputs": [
    {
     "data": {
      "text/plain": [
       "cities              object\n",
       "city_avg_incomes     int64\n",
       "city_populations     int64\n",
       "states              object\n",
       "dtype: object"
      ]
     },
     "execution_count": 26,
     "metadata": {},
     "output_type": "execute_result"
    }
   ],
   "source": [
    "city_table.dtypes"
   ]
  },
  {
   "cell_type": "code",
   "execution_count": 28,
   "metadata": {
    "collapsed": false
   },
   "outputs": [
    {
     "data": {
      "text/html": [
       "<div>\n",
       "<table border=\"1\" class=\"dataframe\">\n",
       "  <thead>\n",
       "    <tr style=\"text-align: right;\">\n",
       "      <th></th>\n",
       "      <th>cities</th>\n",
       "      <th>city_avg_incomes</th>\n",
       "      <th>city_populations</th>\n",
       "      <th>states</th>\n",
       "    </tr>\n",
       "  </thead>\n",
       "  <tbody>\n",
       "    <tr>\n",
       "      <th>0</th>\n",
       "      <td>Atlanta</td>\n",
       "      <td>55000</td>\n",
       "      <td>5000000</td>\n",
       "      <td>GA</td>\n",
       "    </tr>\n",
       "    <tr>\n",
       "      <th>1</th>\n",
       "      <td>Lilburn</td>\n",
       "      <td>40000</td>\n",
       "      <td>250000</td>\n",
       "      <td>GA</td>\n",
       "    </tr>\n",
       "    <tr>\n",
       "      <th>2</th>\n",
       "      <td>Athens</td>\n",
       "      <td>50000</td>\n",
       "      <td>100000</td>\n",
       "      <td>GA</td>\n",
       "    </tr>\n",
       "    <tr>\n",
       "      <th>3</th>\n",
       "      <td>Auburn</td>\n",
       "      <td>45000</td>\n",
       "      <td>50000</td>\n",
       "      <td>GA</td>\n",
       "    </tr>\n",
       "    <tr>\n",
       "      <th>4</th>\n",
       "      <td>Augusta</td>\n",
       "      <td>30000</td>\n",
       "      <td>200000</td>\n",
       "      <td>GA</td>\n",
       "    </tr>\n",
       "  </tbody>\n",
       "</table>\n",
       "</div>"
      ],
      "text/plain": [
       "    cities  city_avg_incomes  city_populations states\n",
       "0  Atlanta             55000           5000000     GA\n",
       "1  Lilburn             40000            250000     GA\n",
       "2   Athens             50000            100000     GA\n",
       "3   Auburn             45000             50000     GA\n",
       "4  Augusta             30000            200000     GA"
      ]
     },
     "execution_count": 28,
     "metadata": {},
     "output_type": "execute_result"
    }
   ],
   "source": [
    "city_table.head()"
   ]
  },
  {
   "cell_type": "code",
   "execution_count": 29,
   "metadata": {
    "collapsed": false
   },
   "outputs": [
    {
     "data": {
      "text/html": [
       "<div>\n",
       "<table border=\"1\" class=\"dataframe\">\n",
       "  <thead>\n",
       "    <tr style=\"text-align: right;\">\n",
       "      <th></th>\n",
       "      <th>cities</th>\n",
       "      <th>city_avg_incomes</th>\n",
       "      <th>city_populations</th>\n",
       "      <th>states</th>\n",
       "    </tr>\n",
       "  </thead>\n",
       "  <tbody>\n",
       "    <tr>\n",
       "      <th>0</th>\n",
       "      <td>Atlanta</td>\n",
       "      <td>55000</td>\n",
       "      <td>5000000</td>\n",
       "      <td>GA</td>\n",
       "    </tr>\n",
       "  </tbody>\n",
       "</table>\n",
       "</div>"
      ],
      "text/plain": [
       "    cities  city_avg_incomes  city_populations states\n",
       "0  Atlanta             55000           5000000     GA"
      ]
     },
     "execution_count": 29,
     "metadata": {},
     "output_type": "execute_result"
    }
   ],
   "source": [
    "city_table[ city_table.index == 0 ].head()"
   ]
  },
  {
   "cell_type": "code",
   "execution_count": 30,
   "metadata": {
    "collapsed": false
   },
   "outputs": [
    {
     "data": {
      "text/html": [
       "<div>\n",
       "<table border=\"1\" class=\"dataframe\">\n",
       "  <thead>\n",
       "    <tr style=\"text-align: right;\">\n",
       "      <th></th>\n",
       "      <th>cities</th>\n",
       "      <th>city_avg_incomes</th>\n",
       "      <th>city_populations</th>\n",
       "      <th>states</th>\n",
       "    </tr>\n",
       "  </thead>\n",
       "  <tbody>\n",
       "    <tr>\n",
       "      <th>0</th>\n",
       "      <td>Atlanta</td>\n",
       "      <td>55000</td>\n",
       "      <td>5000000</td>\n",
       "      <td>GA</td>\n",
       "    </tr>\n",
       "  </tbody>\n",
       "</table>\n",
       "</div>"
      ],
      "text/plain": [
       "    cities  city_avg_incomes  city_populations states\n",
       "0  Atlanta             55000           5000000     GA"
      ]
     },
     "execution_count": 30,
     "metadata": {},
     "output_type": "execute_result"
    }
   ],
   "source": [
    "city_table[ city_table.cities == 'Atlanta' ]"
   ]
  },
  {
   "cell_type": "code",
   "execution_count": 33,
   "metadata": {
    "collapsed": false
   },
   "outputs": [
    {
     "data": {
      "text/html": [
       "<div>\n",
       "<table border=\"1\" class=\"dataframe\">\n",
       "  <thead>\n",
       "    <tr style=\"text-align: right;\">\n",
       "      <th></th>\n",
       "      <th>cities</th>\n",
       "      <th>city_avg_incomes</th>\n",
       "      <th>city_populations</th>\n",
       "      <th>states</th>\n",
       "    </tr>\n",
       "  </thead>\n",
       "  <tbody>\n",
       "    <tr>\n",
       "      <th>1</th>\n",
       "      <td>Lilburn</td>\n",
       "      <td>40000</td>\n",
       "      <td>250000</td>\n",
       "      <td>GA</td>\n",
       "    </tr>\n",
       "    <tr>\n",
       "      <th>2</th>\n",
       "      <td>Athens</td>\n",
       "      <td>50000</td>\n",
       "      <td>100000</td>\n",
       "      <td>GA</td>\n",
       "    </tr>\n",
       "    <tr>\n",
       "      <th>4</th>\n",
       "      <td>Augusta</td>\n",
       "      <td>30000</td>\n",
       "      <td>200000</td>\n",
       "      <td>GA</td>\n",
       "    </tr>\n",
       "    <tr>\n",
       "      <th>5</th>\n",
       "      <td>NYC</td>\n",
       "      <td>60000</td>\n",
       "      <td>6000000</td>\n",
       "      <td>NY</td>\n",
       "    </tr>\n",
       "    <tr>\n",
       "      <th>6</th>\n",
       "      <td>Buffalo</td>\n",
       "      <td>57000</td>\n",
       "      <td>3000000</td>\n",
       "      <td>NY</td>\n",
       "    </tr>\n",
       "    <tr>\n",
       "      <th>7</th>\n",
       "      <td>Albany</td>\n",
       "      <td>56000</td>\n",
       "      <td>400000</td>\n",
       "      <td>NY</td>\n",
       "    </tr>\n",
       "    <tr>\n",
       "      <th>8</th>\n",
       "      <td>Miami</td>\n",
       "      <td>65000</td>\n",
       "      <td>4000000</td>\n",
       "      <td>FL</td>\n",
       "    </tr>\n",
       "    <tr>\n",
       "      <th>9</th>\n",
       "      <td>Tallahassee</td>\n",
       "      <td>40000</td>\n",
       "      <td>5000000</td>\n",
       "      <td>FL</td>\n",
       "    </tr>\n",
       "  </tbody>\n",
       "</table>\n",
       "</div>"
      ],
      "text/plain": [
       "        cities  city_avg_incomes  city_populations states\n",
       "1      Lilburn             40000            250000     GA\n",
       "2       Athens             50000            100000     GA\n",
       "4      Augusta             30000            200000     GA\n",
       "5          NYC             60000           6000000     NY\n",
       "6      Buffalo             57000           3000000     NY\n",
       "7       Albany             56000            400000     NY\n",
       "8        Miami             65000           4000000     FL\n",
       "9  Tallahassee             40000           5000000     FL"
      ]
     },
     "execution_count": 33,
     "metadata": {},
     "output_type": "execute_result"
    }
   ],
   "source": [
    "city_table[ (city_table.cities != 'Atlanta') & (city_table.city_populations > 50000) ]"
   ]
  },
  {
   "cell_type": "code",
   "execution_count": 34,
   "metadata": {
    "collapsed": false
   },
   "outputs": [
    {
     "data": {
      "text/html": [
       "<div>\n",
       "<table border=\"1\" class=\"dataframe\">\n",
       "  <thead>\n",
       "    <tr style=\"text-align: right;\">\n",
       "      <th></th>\n",
       "      <th>cities</th>\n",
       "      <th>city_avg_incomes</th>\n",
       "      <th>city_populations</th>\n",
       "      <th>states</th>\n",
       "    </tr>\n",
       "  </thead>\n",
       "  <tbody>\n",
       "    <tr>\n",
       "      <th>0</th>\n",
       "      <td>Atlanta</td>\n",
       "      <td>55000</td>\n",
       "      <td>5000000</td>\n",
       "      <td>GA</td>\n",
       "    </tr>\n",
       "    <tr>\n",
       "      <th>1</th>\n",
       "      <td>Lilburn</td>\n",
       "      <td>40000</td>\n",
       "      <td>250000</td>\n",
       "      <td>GA</td>\n",
       "    </tr>\n",
       "  </tbody>\n",
       "</table>\n",
       "</div>"
      ],
      "text/plain": [
       "    cities  city_avg_incomes  city_populations states\n",
       "0  Atlanta             55000           5000000     GA\n",
       "1  Lilburn             40000            250000     GA"
      ]
     },
     "execution_count": 34,
     "metadata": {},
     "output_type": "execute_result"
    }
   ],
   "source": [
    "city_table[city_table.cities.isin([\"Atlanta\",\"Lilburn\"])]"
   ]
  },
  {
   "cell_type": "code",
   "execution_count": 35,
   "metadata": {
    "collapsed": false
   },
   "outputs": [
    {
     "data": {
      "text/html": [
       "<div>\n",
       "<table border=\"1\" class=\"dataframe\">\n",
       "  <thead>\n",
       "    <tr style=\"text-align: right;\">\n",
       "      <th></th>\n",
       "      <th>cities</th>\n",
       "      <th>city_avg_incomes</th>\n",
       "      <th>city_populations</th>\n",
       "      <th>states</th>\n",
       "    </tr>\n",
       "  </thead>\n",
       "  <tbody>\n",
       "    <tr>\n",
       "      <th>0</th>\n",
       "      <td>Atlanta</td>\n",
       "      <td>55000</td>\n",
       "      <td>5000000</td>\n",
       "      <td>GA</td>\n",
       "    </tr>\n",
       "    <tr>\n",
       "      <th>1</th>\n",
       "      <td>Lilburn</td>\n",
       "      <td>40000</td>\n",
       "      <td>250000</td>\n",
       "      <td>GA</td>\n",
       "    </tr>\n",
       "  </tbody>\n",
       "</table>\n",
       "</div>"
      ],
      "text/plain": [
       "    cities  city_avg_incomes  city_populations states\n",
       "0  Atlanta             55000           5000000     GA\n",
       "1  Lilburn             40000            250000     GA"
      ]
     },
     "execution_count": 35,
     "metadata": {},
     "output_type": "execute_result"
    }
   ],
   "source": [
    "city_table[ (city_table.cities == \"Atlanta\") | (city_table.cities == \"Lilburn\") ]"
   ]
  },
  {
   "cell_type": "code",
   "execution_count": 36,
   "metadata": {
    "collapsed": false
   },
   "outputs": [
    {
     "data": {
      "text/html": [
       "<div>\n",
       "<table border=\"1\" class=\"dataframe\">\n",
       "  <thead>\n",
       "    <tr style=\"text-align: right;\">\n",
       "      <th></th>\n",
       "      <th>cities</th>\n",
       "      <th>city_avg_incomes</th>\n",
       "      <th>city_populations</th>\n",
       "      <th>states</th>\n",
       "    </tr>\n",
       "  </thead>\n",
       "  <tbody>\n",
       "    <tr>\n",
       "      <th>2</th>\n",
       "      <td>Athens</td>\n",
       "      <td>50000</td>\n",
       "      <td>100000</td>\n",
       "      <td>GA</td>\n",
       "    </tr>\n",
       "    <tr>\n",
       "      <th>3</th>\n",
       "      <td>Auburn</td>\n",
       "      <td>45000</td>\n",
       "      <td>50000</td>\n",
       "      <td>GA</td>\n",
       "    </tr>\n",
       "    <tr>\n",
       "      <th>4</th>\n",
       "      <td>Augusta</td>\n",
       "      <td>30000</td>\n",
       "      <td>200000</td>\n",
       "      <td>GA</td>\n",
       "    </tr>\n",
       "    <tr>\n",
       "      <th>5</th>\n",
       "      <td>NYC</td>\n",
       "      <td>60000</td>\n",
       "      <td>6000000</td>\n",
       "      <td>NY</td>\n",
       "    </tr>\n",
       "    <tr>\n",
       "      <th>6</th>\n",
       "      <td>Buffalo</td>\n",
       "      <td>57000</td>\n",
       "      <td>3000000</td>\n",
       "      <td>NY</td>\n",
       "    </tr>\n",
       "    <tr>\n",
       "      <th>7</th>\n",
       "      <td>Albany</td>\n",
       "      <td>56000</td>\n",
       "      <td>400000</td>\n",
       "      <td>NY</td>\n",
       "    </tr>\n",
       "    <tr>\n",
       "      <th>8</th>\n",
       "      <td>Miami</td>\n",
       "      <td>65000</td>\n",
       "      <td>4000000</td>\n",
       "      <td>FL</td>\n",
       "    </tr>\n",
       "    <tr>\n",
       "      <th>9</th>\n",
       "      <td>Tallahassee</td>\n",
       "      <td>40000</td>\n",
       "      <td>5000000</td>\n",
       "      <td>FL</td>\n",
       "    </tr>\n",
       "  </tbody>\n",
       "</table>\n",
       "</div>"
      ],
      "text/plain": [
       "        cities  city_avg_incomes  city_populations states\n",
       "2       Athens             50000            100000     GA\n",
       "3       Auburn             45000             50000     GA\n",
       "4      Augusta             30000            200000     GA\n",
       "5          NYC             60000           6000000     NY\n",
       "6      Buffalo             57000           3000000     NY\n",
       "7       Albany             56000            400000     NY\n",
       "8        Miami             65000           4000000     FL\n",
       "9  Tallahassee             40000           5000000     FL"
      ]
     },
     "execution_count": 36,
     "metadata": {},
     "output_type": "execute_result"
    }
   ],
   "source": [
    "city_table[~city_table.cities.isin([\"Atlanta\",\"Lilburn\"])]"
   ]
  },
  {
   "cell_type": "code",
   "execution_count": 37,
   "metadata": {
    "collapsed": false
   },
   "outputs": [
    {
     "data": {
      "text/html": [
       "<div>\n",
       "<table border=\"1\" class=\"dataframe\">\n",
       "  <thead>\n",
       "    <tr style=\"text-align: right;\">\n",
       "      <th></th>\n",
       "      <th>cities</th>\n",
       "      <th>city_avg_incomes</th>\n",
       "      <th>city_populations</th>\n",
       "      <th>states</th>\n",
       "    </tr>\n",
       "  </thead>\n",
       "  <tbody>\n",
       "    <tr>\n",
       "      <th>2</th>\n",
       "      <td>Athens</td>\n",
       "      <td>50000</td>\n",
       "      <td>100000</td>\n",
       "      <td>GA</td>\n",
       "    </tr>\n",
       "    <tr>\n",
       "      <th>3</th>\n",
       "      <td>Auburn</td>\n",
       "      <td>45000</td>\n",
       "      <td>50000</td>\n",
       "      <td>GA</td>\n",
       "    </tr>\n",
       "    <tr>\n",
       "      <th>4</th>\n",
       "      <td>Augusta</td>\n",
       "      <td>30000</td>\n",
       "      <td>200000</td>\n",
       "      <td>GA</td>\n",
       "    </tr>\n",
       "    <tr>\n",
       "      <th>5</th>\n",
       "      <td>NYC</td>\n",
       "      <td>60000</td>\n",
       "      <td>6000000</td>\n",
       "      <td>NY</td>\n",
       "    </tr>\n",
       "    <tr>\n",
       "      <th>6</th>\n",
       "      <td>Buffalo</td>\n",
       "      <td>57000</td>\n",
       "      <td>3000000</td>\n",
       "      <td>NY</td>\n",
       "    </tr>\n",
       "    <tr>\n",
       "      <th>7</th>\n",
       "      <td>Albany</td>\n",
       "      <td>56000</td>\n",
       "      <td>400000</td>\n",
       "      <td>NY</td>\n",
       "    </tr>\n",
       "    <tr>\n",
       "      <th>8</th>\n",
       "      <td>Miami</td>\n",
       "      <td>65000</td>\n",
       "      <td>4000000</td>\n",
       "      <td>FL</td>\n",
       "    </tr>\n",
       "    <tr>\n",
       "      <th>9</th>\n",
       "      <td>Tallahassee</td>\n",
       "      <td>40000</td>\n",
       "      <td>5000000</td>\n",
       "      <td>FL</td>\n",
       "    </tr>\n",
       "  </tbody>\n",
       "</table>\n",
       "</div>"
      ],
      "text/plain": [
       "        cities  city_avg_incomes  city_populations states\n",
       "2       Athens             50000            100000     GA\n",
       "3       Auburn             45000             50000     GA\n",
       "4      Augusta             30000            200000     GA\n",
       "5          NYC             60000           6000000     NY\n",
       "6      Buffalo             57000           3000000     NY\n",
       "7       Albany             56000            400000     NY\n",
       "8        Miami             65000           4000000     FL\n",
       "9  Tallahassee             40000           5000000     FL"
      ]
     },
     "execution_count": 37,
     "metadata": {},
     "output_type": "execute_result"
    }
   ],
   "source": [
    "city_table[ (city_table.cities != \"Atlanta\") & (city_table.cities != \"Lilburn\") ]"
   ]
  },
  {
   "cell_type": "code",
   "execution_count": null,
   "metadata": {
    "collapsed": true
   },
   "outputs": [],
   "source": [
    "df2 = pd.DataFrame( { \"column1\" : range(5), \"column2\" : range(5)  } )"
   ]
  },
  {
   "cell_type": "code",
   "execution_count": 44,
   "metadata": {
    "collapsed": false
   },
   "outputs": [
    {
     "data": {
      "text/plain": [
       "[0, 1, 2, 3, 4]"
      ]
     },
     "execution_count": 44,
     "metadata": {},
     "output_type": "execute_result"
    }
   ],
   "source": [
    "range(5)"
   ]
  },
  {
   "cell_type": "code",
   "execution_count": 39,
   "metadata": {
    "collapsed": false
   },
   "outputs": [
    {
     "name": "stdout",
     "output_type": "stream",
     "text": [
      "{'column1': [0, 1, 2, 3, 4], 'column2': [0, 1, 2, 3, 4]}\n"
     ]
    }
   ],
   "source": [
    "dict1 = { \"column1\" : range(5), \"column2\" : range(5)  }\n",
    "print dict1"
   ]
  },
  {
   "cell_type": "code",
   "execution_count": 40,
   "metadata": {
    "collapsed": true
   },
   "outputs": [],
   "source": [
    "students = { '1234' : \"Bob\", '5643' : \"Jessica\" }"
   ]
  },
  {
   "cell_type": "code",
   "execution_count": 41,
   "metadata": {
    "collapsed": false
   },
   "outputs": [
    {
     "data": {
      "text/plain": [
       "'Jessica'"
      ]
     },
     "execution_count": 41,
     "metadata": {},
     "output_type": "execute_result"
    }
   ],
   "source": [
    "students['5643']"
   ]
  },
  {
   "cell_type": "code",
   "execution_count": 42,
   "metadata": {
    "collapsed": true
   },
   "outputs": [],
   "source": [
    "listOfNames = [\"Bob\",\"Jessica\",\"Tim\",\"John\"]"
   ]
  },
  {
   "cell_type": "code",
   "execution_count": 43,
   "metadata": {
    "collapsed": false
   },
   "outputs": [
    {
     "data": {
      "text/plain": [
       "'Jessica'"
      ]
     },
     "execution_count": 43,
     "metadata": {},
     "output_type": "execute_result"
    }
   ],
   "source": [
    "listOfNames[1]"
   ]
  },
  {
   "cell_type": "code",
   "execution_count": 48,
   "metadata": {
    "collapsed": false
   },
   "outputs": [
    {
     "data": {
      "text/plain": [
       "4"
      ]
     },
     "execution_count": 48,
     "metadata": {},
     "output_type": "execute_result"
    }
   ],
   "source": [
    "city_table.shape[1]"
   ]
  },
  {
   "cell_type": "code",
   "execution_count": 50,
   "metadata": {
    "collapsed": false
   },
   "outputs": [],
   "source": [
    "rows, columns = city_table.shape"
   ]
  },
  {
   "cell_type": "code",
   "execution_count": 51,
   "metadata": {
    "collapsed": false
   },
   "outputs": [
    {
     "name": "stdout",
     "output_type": "stream",
     "text": [
      "10\n"
     ]
    }
   ],
   "source": [
    "print(rows)"
   ]
  },
  {
   "cell_type": "code",
   "execution_count": 52,
   "metadata": {
    "collapsed": false
   },
   "outputs": [
    {
     "name": "stdout",
     "output_type": "stream",
     "text": [
      "4\n"
     ]
    }
   ],
   "source": [
    "print(columns)"
   ]
  },
  {
   "cell_type": "code",
   "execution_count": 53,
   "metadata": {
    "collapsed": true
   },
   "outputs": [],
   "source": [
    "rows, _ = city_table.shape"
   ]
  },
  {
   "cell_type": "code",
   "execution_count": 46,
   "metadata": {
    "collapsed": false
   },
   "outputs": [
    {
     "data": {
      "text/plain": [
       "cities              10\n",
       "city_avg_incomes    10\n",
       "city_populations    10\n",
       "states              10\n",
       "dtype: int64"
      ]
     },
     "execution_count": 46,
     "metadata": {},
     "output_type": "execute_result"
    }
   ],
   "source": [
    "city_table.count()"
   ]
  },
  {
   "cell_type": "code",
   "execution_count": 56,
   "metadata": {
    "collapsed": false
   },
   "outputs": [
    {
     "data": {
      "text/html": [
       "<div>\n",
       "<table border=\"1\" class=\"dataframe\">\n",
       "  <thead>\n",
       "    <tr style=\"text-align: right;\">\n",
       "      <th></th>\n",
       "      <th>cities</th>\n",
       "      <th>city_avg_incomes</th>\n",
       "      <th>city_populations</th>\n",
       "      <th>states</th>\n",
       "    </tr>\n",
       "  </thead>\n",
       "  <tbody>\n",
       "    <tr>\n",
       "      <th>0</th>\n",
       "      <td>Atlanta</td>\n",
       "      <td>55000</td>\n",
       "      <td>5000000</td>\n",
       "      <td>GA</td>\n",
       "    </tr>\n",
       "    <tr>\n",
       "      <th>1</th>\n",
       "      <td>Lilburn</td>\n",
       "      <td>40000</td>\n",
       "      <td>250000</td>\n",
       "      <td>GA</td>\n",
       "    </tr>\n",
       "    <tr>\n",
       "      <th>2</th>\n",
       "      <td>Athens</td>\n",
       "      <td>50000</td>\n",
       "      <td>100000</td>\n",
       "      <td>GA</td>\n",
       "    </tr>\n",
       "    <tr>\n",
       "      <th>3</th>\n",
       "      <td>Auburn</td>\n",
       "      <td>45000</td>\n",
       "      <td>50000</td>\n",
       "      <td>GA</td>\n",
       "    </tr>\n",
       "    <tr>\n",
       "      <th>4</th>\n",
       "      <td>Augusta</td>\n",
       "      <td>30000</td>\n",
       "      <td>200000</td>\n",
       "      <td>GA</td>\n",
       "    </tr>\n",
       "    <tr>\n",
       "      <th>5</th>\n",
       "      <td>NYC</td>\n",
       "      <td>60000</td>\n",
       "      <td>6000000</td>\n",
       "      <td>NY</td>\n",
       "    </tr>\n",
       "    <tr>\n",
       "      <th>6</th>\n",
       "      <td>Buffalo</td>\n",
       "      <td>57000</td>\n",
       "      <td>3000000</td>\n",
       "      <td>NY</td>\n",
       "    </tr>\n",
       "    <tr>\n",
       "      <th>7</th>\n",
       "      <td>Albany</td>\n",
       "      <td>56000</td>\n",
       "      <td>400000</td>\n",
       "      <td>NY</td>\n",
       "    </tr>\n",
       "    <tr>\n",
       "      <th>8</th>\n",
       "      <td>Miami</td>\n",
       "      <td>65000</td>\n",
       "      <td>4000000</td>\n",
       "      <td>FL</td>\n",
       "    </tr>\n",
       "    <tr>\n",
       "      <th>9</th>\n",
       "      <td>Tallahassee</td>\n",
       "      <td>40000</td>\n",
       "      <td>5000000</td>\n",
       "      <td>FL</td>\n",
       "    </tr>\n",
       "  </tbody>\n",
       "</table>\n",
       "</div>"
      ],
      "text/plain": [
       "        cities  city_avg_incomes  city_populations states\n",
       "0      Atlanta             55000           5000000     GA\n",
       "1      Lilburn             40000            250000     GA\n",
       "2       Athens             50000            100000     GA\n",
       "3       Auburn             45000             50000     GA\n",
       "4      Augusta             30000            200000     GA\n",
       "5          NYC             60000           6000000     NY\n",
       "6      Buffalo             57000           3000000     NY\n",
       "7       Albany             56000            400000     NY\n",
       "8        Miami             65000           4000000     FL\n",
       "9  Tallahassee             40000           5000000     FL"
      ]
     },
     "execution_count": 56,
     "metadata": {},
     "output_type": "execute_result"
    }
   ],
   "source": [
    "city_table.dropna(inplace = True)"
   ]
  },
  {
   "cell_type": "code",
   "execution_count": null,
   "metadata": {
    "collapsed": true
   },
   "outputs": [],
   "source": [
    "city_table_without_null = city_table.dropna()"
   ]
  },
  {
   "cell_type": "markdown",
   "metadata": {},
   "source": [
    "### Question\n",
    "\n",
    "Do you remember what is the syntax to define a dictionary in Python?"
   ]
  },
  {
   "cell_type": "markdown",
   "metadata": {},
   "source": [
    "# Looking at the Dataframe"
   ]
  },
  {
   "cell_type": "markdown",
   "metadata": {
    "collapsed": false
   },
   "source": [
    "Let us take a look at the first 6 entries:"
   ]
  },
  {
   "cell_type": "code",
   "execution_count": 57,
   "metadata": {
    "collapsed": false
   },
   "outputs": [
    {
     "data": {
      "text/html": [
       "<div>\n",
       "<table border=\"1\" class=\"dataframe\">\n",
       "  <thead>\n",
       "    <tr style=\"text-align: right;\">\n",
       "      <th></th>\n",
       "      <th>cities</th>\n",
       "      <th>city_avg_incomes</th>\n",
       "      <th>city_populations</th>\n",
       "      <th>states</th>\n",
       "    </tr>\n",
       "  </thead>\n",
       "  <tbody>\n",
       "    <tr>\n",
       "      <th>5</th>\n",
       "      <td>NYC</td>\n",
       "      <td>60000</td>\n",
       "      <td>6000000</td>\n",
       "      <td>NY</td>\n",
       "    </tr>\n",
       "    <tr>\n",
       "      <th>6</th>\n",
       "      <td>Buffalo</td>\n",
       "      <td>57000</td>\n",
       "      <td>3000000</td>\n",
       "      <td>NY</td>\n",
       "    </tr>\n",
       "    <tr>\n",
       "      <th>7</th>\n",
       "      <td>Albany</td>\n",
       "      <td>56000</td>\n",
       "      <td>400000</td>\n",
       "      <td>NY</td>\n",
       "    </tr>\n",
       "    <tr>\n",
       "      <th>8</th>\n",
       "      <td>Miami</td>\n",
       "      <td>65000</td>\n",
       "      <td>4000000</td>\n",
       "      <td>FL</td>\n",
       "    </tr>\n",
       "    <tr>\n",
       "      <th>9</th>\n",
       "      <td>Tallahassee</td>\n",
       "      <td>40000</td>\n",
       "      <td>5000000</td>\n",
       "      <td>FL</td>\n",
       "    </tr>\n",
       "  </tbody>\n",
       "</table>\n",
       "</div>"
      ],
      "text/plain": [
       "        cities  city_avg_incomes  city_populations states\n",
       "5          NYC             60000           6000000     NY\n",
       "6      Buffalo             57000           3000000     NY\n",
       "7       Albany             56000            400000     NY\n",
       "8        Miami             65000           4000000     FL\n",
       "9  Tallahassee             40000           5000000     FL"
      ]
     },
     "execution_count": 57,
     "metadata": {},
     "output_type": "execute_result"
    }
   ],
   "source": [
    "#city_table.head()\n",
    "city_table.tail()"
   ]
  },
  {
   "cell_type": "markdown",
   "metadata": {},
   "source": [
    "# Manipulating the data "
   ]
  },
  {
   "cell_type": "markdown",
   "metadata": {
    "collapsed": false
   },
   "source": [
    "We can create a column to state the population in millions and another one for the income in thousands. \n",
    "\n",
    "Let us define a function that formats a number in terms of millions\n",
    "\n",
    "### Question\n",
    "\n",
    "Do you remember how to define a function in Python?"
   ]
  },
  {
   "cell_type": "code",
   "execution_count": 59,
   "metadata": {
    "collapsed": true
   },
   "outputs": [],
   "source": [
    "def FormatMillions(x):\n",
    "    return x/1000000.0"
   ]
  },
  {
   "cell_type": "markdown",
   "metadata": {},
   "source": [
    "We can now \"apply\" this function to one of the columns of our dataframe to create a new column:"
   ]
  },
  {
   "cell_type": "code",
   "execution_count": 60,
   "metadata": {
    "collapsed": false
   },
   "outputs": [],
   "source": [
    "city_table['pop_in_millions'] = city_table['city_populations'].apply(FormatMillions)"
   ]
  },
  {
   "cell_type": "code",
   "execution_count": 63,
   "metadata": {
    "collapsed": false
   },
   "outputs": [
    {
     "data": {
      "text/plain": [
       "0    5.00\n",
       "1    0.25\n",
       "2    0.10\n",
       "3    0.05\n",
       "4    0.20\n",
       "Name: pop_in_millions, dtype: float64"
      ]
     },
     "execution_count": 63,
     "metadata": {},
     "output_type": "execute_result"
    }
   ],
   "source": [
    "city_table.pop_in_millions.head()"
   ]
  },
  {
   "cell_type": "code",
   "execution_count": 64,
   "metadata": {
    "collapsed": true
   },
   "outputs": [],
   "source": [
    "city_table['pop_in_millions2'] = city_table['city_populations'].apply(lambda colVal: colVal/1000000.0)"
   ]
  },
  {
   "cell_type": "markdown",
   "metadata": {},
   "source": [
    "Let us do something similar for the incomes, but format the numbers in terms of thousands. "
   ]
  },
  {
   "cell_type": "code",
   "execution_count": 65,
   "metadata": {
    "collapsed": true
   },
   "outputs": [],
   "source": [
    "def FormatThousands(x):\n",
    "    return x/1000.0"
   ]
  },
  {
   "cell_type": "code",
   "execution_count": 66,
   "metadata": {
    "collapsed": false
   },
   "outputs": [],
   "source": [
    "city_table['income_in_k'] =city_table['city_avg_incomes'].apply(FormatThousands)"
   ]
  },
  {
   "cell_type": "markdown",
   "metadata": {},
   "source": [
    "Let us see the result:"
   ]
  },
  {
   "cell_type": "code",
   "execution_count": 67,
   "metadata": {
    "collapsed": false
   },
   "outputs": [
    {
     "data": {
      "text/html": [
       "<div>\n",
       "<table border=\"1\" class=\"dataframe\">\n",
       "  <thead>\n",
       "    <tr style=\"text-align: right;\">\n",
       "      <th></th>\n",
       "      <th>cities</th>\n",
       "      <th>city_avg_incomes</th>\n",
       "      <th>city_populations</th>\n",
       "      <th>states</th>\n",
       "      <th>pop_in_millions</th>\n",
       "      <th>pop_in_millions2</th>\n",
       "      <th>income_in_k</th>\n",
       "    </tr>\n",
       "  </thead>\n",
       "  <tbody>\n",
       "    <tr>\n",
       "      <th>0</th>\n",
       "      <td>Atlanta</td>\n",
       "      <td>55000</td>\n",
       "      <td>5000000</td>\n",
       "      <td>GA</td>\n",
       "      <td>5.00</td>\n",
       "      <td>5.00</td>\n",
       "      <td>55</td>\n",
       "    </tr>\n",
       "    <tr>\n",
       "      <th>1</th>\n",
       "      <td>Lilburn</td>\n",
       "      <td>40000</td>\n",
       "      <td>250000</td>\n",
       "      <td>GA</td>\n",
       "      <td>0.25</td>\n",
       "      <td>0.25</td>\n",
       "      <td>40</td>\n",
       "    </tr>\n",
       "    <tr>\n",
       "      <th>2</th>\n",
       "      <td>Athens</td>\n",
       "      <td>50000</td>\n",
       "      <td>100000</td>\n",
       "      <td>GA</td>\n",
       "      <td>0.10</td>\n",
       "      <td>0.10</td>\n",
       "      <td>50</td>\n",
       "    </tr>\n",
       "    <tr>\n",
       "      <th>3</th>\n",
       "      <td>Auburn</td>\n",
       "      <td>45000</td>\n",
       "      <td>50000</td>\n",
       "      <td>GA</td>\n",
       "      <td>0.05</td>\n",
       "      <td>0.05</td>\n",
       "      <td>45</td>\n",
       "    </tr>\n",
       "    <tr>\n",
       "      <th>4</th>\n",
       "      <td>Augusta</td>\n",
       "      <td>30000</td>\n",
       "      <td>200000</td>\n",
       "      <td>GA</td>\n",
       "      <td>0.20</td>\n",
       "      <td>0.20</td>\n",
       "      <td>30</td>\n",
       "    </tr>\n",
       "  </tbody>\n",
       "</table>\n",
       "</div>"
      ],
      "text/plain": [
       "    cities  city_avg_incomes  city_populations states  pop_in_millions  \\\n",
       "0  Atlanta             55000           5000000     GA             5.00   \n",
       "1  Lilburn             40000            250000     GA             0.25   \n",
       "2   Athens             50000            100000     GA             0.10   \n",
       "3   Auburn             45000             50000     GA             0.05   \n",
       "4  Augusta             30000            200000     GA             0.20   \n",
       "\n",
       "   pop_in_millions2  income_in_k  \n",
       "0              5.00           55  \n",
       "1              0.25           40  \n",
       "2              0.10           50  \n",
       "3              0.05           45  \n",
       "4              0.20           30  "
      ]
     },
     "execution_count": 67,
     "metadata": {},
     "output_type": "execute_result"
    }
   ],
   "source": [
    "city_table.head()"
   ]
  },
  {
   "cell_type": "markdown",
   "metadata": {},
   "source": [
    "### Question\n",
    "\n",
    "Why do you think are the functions above useful for?"
   ]
  },
  {
   "cell_type": "markdown",
   "metadata": {},
   "source": [
    "# Data undestanding"
   ]
  },
  {
   "cell_type": "markdown",
   "metadata": {},
   "source": [
    "How many columns and rows do we have in the dataframe?"
   ]
  },
  {
   "cell_type": "code",
   "execution_count": 68,
   "metadata": {
    "collapsed": false
   },
   "outputs": [],
   "source": [
    "columnsToKeep = [\"cities\",\"city_avg_incomes\"]\n",
    "df2 = city_table[columnsToKeep]"
   ]
  },
  {
   "cell_type": "code",
   "execution_count": 70,
   "metadata": {
    "collapsed": false
   },
   "outputs": [
    {
     "data": {
      "text/html": [
       "<div>\n",
       "<table border=\"1\" class=\"dataframe\">\n",
       "  <thead>\n",
       "    <tr style=\"text-align: right;\">\n",
       "      <th></th>\n",
       "      <th>cities</th>\n",
       "      <th>city_avg_incomes</th>\n",
       "    </tr>\n",
       "  </thead>\n",
       "  <tbody>\n",
       "    <tr>\n",
       "      <th>0</th>\n",
       "      <td>Atlanta</td>\n",
       "      <td>55000</td>\n",
       "    </tr>\n",
       "    <tr>\n",
       "      <th>1</th>\n",
       "      <td>Lilburn</td>\n",
       "      <td>40000</td>\n",
       "    </tr>\n",
       "    <tr>\n",
       "      <th>2</th>\n",
       "      <td>Athens</td>\n",
       "      <td>50000</td>\n",
       "    </tr>\n",
       "    <tr>\n",
       "      <th>3</th>\n",
       "      <td>Auburn</td>\n",
       "      <td>45000</td>\n",
       "    </tr>\n",
       "    <tr>\n",
       "      <th>4</th>\n",
       "      <td>Augusta</td>\n",
       "      <td>30000</td>\n",
       "    </tr>\n",
       "  </tbody>\n",
       "</table>\n",
       "</div>"
      ],
      "text/plain": [
       "    cities  city_avg_incomes\n",
       "0  Atlanta             55000\n",
       "1  Lilburn             40000\n",
       "2   Athens             50000\n",
       "3   Auburn             45000\n",
       "4  Augusta             30000"
      ]
     },
     "execution_count": 70,
     "metadata": {},
     "output_type": "execute_result"
    }
   ],
   "source": [
    "df2.head()"
   ]
  },
  {
   "cell_type": "markdown",
   "metadata": {},
   "source": [
    "We have 10 records (rows) and 6 fields (columns)"
   ]
  },
  {
   "cell_type": "markdown",
   "metadata": {},
   "source": [
    "Let us select some of the data points. For instance the first 4 entreos for population and income."
   ]
  },
  {
   "cell_type": "code",
   "execution_count": 71,
   "metadata": {
    "collapsed": false
   },
   "outputs": [
    {
     "data": {
      "text/html": [
       "<div>\n",
       "<table border=\"1\" class=\"dataframe\">\n",
       "  <thead>\n",
       "    <tr style=\"text-align: right;\">\n",
       "      <th></th>\n",
       "      <th>pop_in_millions</th>\n",
       "      <th>income_in_k</th>\n",
       "    </tr>\n",
       "  </thead>\n",
       "  <tbody>\n",
       "    <tr>\n",
       "      <th>0</th>\n",
       "      <td>5.00</td>\n",
       "      <td>55</td>\n",
       "    </tr>\n",
       "    <tr>\n",
       "      <th>1</th>\n",
       "      <td>0.25</td>\n",
       "      <td>40</td>\n",
       "    </tr>\n",
       "    <tr>\n",
       "      <th>2</th>\n",
       "      <td>0.10</td>\n",
       "      <td>50</td>\n",
       "    </tr>\n",
       "    <tr>\n",
       "      <th>3</th>\n",
       "      <td>0.05</td>\n",
       "      <td>45</td>\n",
       "    </tr>\n",
       "  </tbody>\n",
       "</table>\n",
       "</div>"
      ],
      "text/plain": [
       "   pop_in_millions  income_in_k\n",
       "0             5.00           55\n",
       "1             0.25           40\n",
       "2             0.10           50\n",
       "3             0.05           45"
      ]
     },
     "execution_count": 71,
     "metadata": {},
     "output_type": "execute_result"
    }
   ],
   "source": [
    "columnstoKeep2 = [\"pop_in_millions\",'income_in_k']\n",
    "city_table[0:4][columnstoKeep2]"
   ]
  },
  {
   "cell_type": "markdown",
   "metadata": {},
   "source": [
    "We can select some data based on conditionals. For instance let us show only those records where the income is greater than 30l."
   ]
  },
  {
   "cell_type": "code",
   "execution_count": 72,
   "metadata": {
    "collapsed": false
   },
   "outputs": [
    {
     "data": {
      "text/html": [
       "<div>\n",
       "<table border=\"1\" class=\"dataframe\">\n",
       "  <thead>\n",
       "    <tr style=\"text-align: right;\">\n",
       "      <th></th>\n",
       "      <th>cities</th>\n",
       "      <th>city_avg_incomes</th>\n",
       "      <th>city_populations</th>\n",
       "      <th>states</th>\n",
       "      <th>pop_in_millions</th>\n",
       "      <th>pop_in_millions2</th>\n",
       "      <th>income_in_k</th>\n",
       "    </tr>\n",
       "  </thead>\n",
       "  <tbody>\n",
       "    <tr>\n",
       "      <th>4</th>\n",
       "      <td>Augusta</td>\n",
       "      <td>30000</td>\n",
       "      <td>200000</td>\n",
       "      <td>GA</td>\n",
       "      <td>0.2</td>\n",
       "      <td>0.2</td>\n",
       "      <td>30</td>\n",
       "    </tr>\n",
       "  </tbody>\n",
       "</table>\n",
       "</div>"
      ],
      "text/plain": [
       "    cities  city_avg_incomes  city_populations states  pop_in_millions  \\\n",
       "4  Augusta             30000            200000     GA              0.2   \n",
       "\n",
       "   pop_in_millions2  income_in_k  \n",
       "4               0.2           30  "
      ]
     },
     "execution_count": 72,
     "metadata": {},
     "output_type": "execute_result"
    }
   ],
   "source": [
    "city_table[(city_table['income_in_k']<=30)]"
   ]
  },
  {
   "cell_type": "markdown",
   "metadata": {},
   "source": [
    "As we can see, only Augusta meets the condition."
   ]
  },
  {
   "cell_type": "markdown",
   "metadata": {},
   "source": [
    "We can order the data. Let us order the dataframe in descending order by the population in millions."
   ]
  },
  {
   "cell_type": "code",
   "execution_count": 74,
   "metadata": {
    "collapsed": false
   },
   "outputs": [
    {
     "data": {
      "text/html": [
       "<div>\n",
       "<table border=\"1\" class=\"dataframe\">\n",
       "  <thead>\n",
       "    <tr style=\"text-align: right;\">\n",
       "      <th></th>\n",
       "      <th>cities</th>\n",
       "      <th>city_avg_incomes</th>\n",
       "      <th>city_populations</th>\n",
       "      <th>states</th>\n",
       "      <th>pop_in_millions</th>\n",
       "      <th>pop_in_millions2</th>\n",
       "      <th>income_in_k</th>\n",
       "    </tr>\n",
       "  </thead>\n",
       "  <tbody>\n",
       "    <tr>\n",
       "      <th>3</th>\n",
       "      <td>Auburn</td>\n",
       "      <td>45000</td>\n",
       "      <td>50000</td>\n",
       "      <td>GA</td>\n",
       "      <td>0.05</td>\n",
       "      <td>0.05</td>\n",
       "      <td>45</td>\n",
       "    </tr>\n",
       "    <tr>\n",
       "      <th>2</th>\n",
       "      <td>Athens</td>\n",
       "      <td>50000</td>\n",
       "      <td>100000</td>\n",
       "      <td>GA</td>\n",
       "      <td>0.10</td>\n",
       "      <td>0.10</td>\n",
       "      <td>50</td>\n",
       "    </tr>\n",
       "    <tr>\n",
       "      <th>4</th>\n",
       "      <td>Augusta</td>\n",
       "      <td>30000</td>\n",
       "      <td>200000</td>\n",
       "      <td>GA</td>\n",
       "      <td>0.20</td>\n",
       "      <td>0.20</td>\n",
       "      <td>30</td>\n",
       "    </tr>\n",
       "    <tr>\n",
       "      <th>1</th>\n",
       "      <td>Lilburn</td>\n",
       "      <td>40000</td>\n",
       "      <td>250000</td>\n",
       "      <td>GA</td>\n",
       "      <td>0.25</td>\n",
       "      <td>0.25</td>\n",
       "      <td>40</td>\n",
       "    </tr>\n",
       "    <tr>\n",
       "      <th>7</th>\n",
       "      <td>Albany</td>\n",
       "      <td>56000</td>\n",
       "      <td>400000</td>\n",
       "      <td>NY</td>\n",
       "      <td>0.40</td>\n",
       "      <td>0.40</td>\n",
       "      <td>56</td>\n",
       "    </tr>\n",
       "    <tr>\n",
       "      <th>6</th>\n",
       "      <td>Buffalo</td>\n",
       "      <td>57000</td>\n",
       "      <td>3000000</td>\n",
       "      <td>NY</td>\n",
       "      <td>3.00</td>\n",
       "      <td>3.00</td>\n",
       "      <td>57</td>\n",
       "    </tr>\n",
       "    <tr>\n",
       "      <th>8</th>\n",
       "      <td>Miami</td>\n",
       "      <td>65000</td>\n",
       "      <td>4000000</td>\n",
       "      <td>FL</td>\n",
       "      <td>4.00</td>\n",
       "      <td>4.00</td>\n",
       "      <td>65</td>\n",
       "    </tr>\n",
       "    <tr>\n",
       "      <th>0</th>\n",
       "      <td>Atlanta</td>\n",
       "      <td>55000</td>\n",
       "      <td>5000000</td>\n",
       "      <td>GA</td>\n",
       "      <td>5.00</td>\n",
       "      <td>5.00</td>\n",
       "      <td>55</td>\n",
       "    </tr>\n",
       "    <tr>\n",
       "      <th>9</th>\n",
       "      <td>Tallahassee</td>\n",
       "      <td>40000</td>\n",
       "      <td>5000000</td>\n",
       "      <td>FL</td>\n",
       "      <td>5.00</td>\n",
       "      <td>5.00</td>\n",
       "      <td>40</td>\n",
       "    </tr>\n",
       "    <tr>\n",
       "      <th>5</th>\n",
       "      <td>NYC</td>\n",
       "      <td>60000</td>\n",
       "      <td>6000000</td>\n",
       "      <td>NY</td>\n",
       "      <td>6.00</td>\n",
       "      <td>6.00</td>\n",
       "      <td>60</td>\n",
       "    </tr>\n",
       "  </tbody>\n",
       "</table>\n",
       "</div>"
      ],
      "text/plain": [
       "        cities  city_avg_incomes  city_populations states  pop_in_millions  \\\n",
       "3       Auburn             45000             50000     GA             0.05   \n",
       "2       Athens             50000            100000     GA             0.10   \n",
       "4      Augusta             30000            200000     GA             0.20   \n",
       "1      Lilburn             40000            250000     GA             0.25   \n",
       "7       Albany             56000            400000     NY             0.40   \n",
       "6      Buffalo             57000           3000000     NY             3.00   \n",
       "8        Miami             65000           4000000     FL             4.00   \n",
       "0      Atlanta             55000           5000000     GA             5.00   \n",
       "9  Tallahassee             40000           5000000     FL             5.00   \n",
       "5          NYC             60000           6000000     NY             6.00   \n",
       "\n",
       "   pop_in_millions2  income_in_k  \n",
       "3              0.05           45  \n",
       "2              0.10           50  \n",
       "4              0.20           30  \n",
       "1              0.25           40  \n",
       "7              0.40           56  \n",
       "6              3.00           57  \n",
       "8              4.00           65  \n",
       "0              5.00           55  \n",
       "9              5.00           40  \n",
       "5              6.00           60  "
      ]
     },
     "execution_count": 74,
     "metadata": {},
     "output_type": "execute_result"
    }
   ],
   "source": [
    "city_table.sort_values('pop_in_millions', ascending=1)"
   ]
  },
  {
   "cell_type": "markdown",
   "metadata": {},
   "source": [
    "Finally, let us get a description of each of the numeric fields in the dataframe. We will be able to see the following statistics:\n",
    "\n",
    "- count of records\n",
    "- mean\n",
    "- standard deviation\n",
    "- minimum and maximum values\n",
    "- percentiles"
   ]
  },
  {
   "cell_type": "code",
   "execution_count": 75,
   "metadata": {
    "collapsed": false
   },
   "outputs": [
    {
     "data": {
      "text/html": [
       "<div>\n",
       "<table border=\"1\" class=\"dataframe\">\n",
       "  <thead>\n",
       "    <tr style=\"text-align: right;\">\n",
       "      <th></th>\n",
       "      <th>city_avg_incomes</th>\n",
       "      <th>city_populations</th>\n",
       "      <th>pop_in_millions</th>\n",
       "      <th>pop_in_millions2</th>\n",
       "      <th>income_in_k</th>\n",
       "    </tr>\n",
       "  </thead>\n",
       "  <tbody>\n",
       "    <tr>\n",
       "      <th>count</th>\n",
       "      <td>10.00000</td>\n",
       "      <td>10.000000</td>\n",
       "      <td>10.000000</td>\n",
       "      <td>10.000000</td>\n",
       "      <td>10.000000</td>\n",
       "    </tr>\n",
       "    <tr>\n",
       "      <th>mean</th>\n",
       "      <td>49800.00000</td>\n",
       "      <td>2400000.000000</td>\n",
       "      <td>2.400000</td>\n",
       "      <td>2.400000</td>\n",
       "      <td>49.800000</td>\n",
       "    </tr>\n",
       "    <tr>\n",
       "      <th>std</th>\n",
       "      <td>10850.49922</td>\n",
       "      <td>2442107.468743</td>\n",
       "      <td>2.442107</td>\n",
       "      <td>2.442107</td>\n",
       "      <td>10.850499</td>\n",
       "    </tr>\n",
       "    <tr>\n",
       "      <th>min</th>\n",
       "      <td>30000.00000</td>\n",
       "      <td>50000.000000</td>\n",
       "      <td>0.050000</td>\n",
       "      <td>0.050000</td>\n",
       "      <td>30.000000</td>\n",
       "    </tr>\n",
       "    <tr>\n",
       "      <th>25%</th>\n",
       "      <td>41250.00000</td>\n",
       "      <td>212500.000000</td>\n",
       "      <td>0.212500</td>\n",
       "      <td>0.212500</td>\n",
       "      <td>41.250000</td>\n",
       "    </tr>\n",
       "    <tr>\n",
       "      <th>50%</th>\n",
       "      <td>52500.00000</td>\n",
       "      <td>1700000.000000</td>\n",
       "      <td>1.700000</td>\n",
       "      <td>1.700000</td>\n",
       "      <td>52.500000</td>\n",
       "    </tr>\n",
       "    <tr>\n",
       "      <th>75%</th>\n",
       "      <td>56750.00000</td>\n",
       "      <td>4750000.000000</td>\n",
       "      <td>4.750000</td>\n",
       "      <td>4.750000</td>\n",
       "      <td>56.750000</td>\n",
       "    </tr>\n",
       "    <tr>\n",
       "      <th>max</th>\n",
       "      <td>65000.00000</td>\n",
       "      <td>6000000.000000</td>\n",
       "      <td>6.000000</td>\n",
       "      <td>6.000000</td>\n",
       "      <td>65.000000</td>\n",
       "    </tr>\n",
       "  </tbody>\n",
       "</table>\n",
       "</div>"
      ],
      "text/plain": [
       "       city_avg_incomes  city_populations  pop_in_millions  pop_in_millions2  \\\n",
       "count          10.00000         10.000000        10.000000         10.000000   \n",
       "mean        49800.00000    2400000.000000         2.400000          2.400000   \n",
       "std         10850.49922    2442107.468743         2.442107          2.442107   \n",
       "min         30000.00000      50000.000000         0.050000          0.050000   \n",
       "25%         41250.00000     212500.000000         0.212500          0.212500   \n",
       "50%         52500.00000    1700000.000000         1.700000          1.700000   \n",
       "75%         56750.00000    4750000.000000         4.750000          4.750000   \n",
       "max         65000.00000    6000000.000000         6.000000          6.000000   \n",
       "\n",
       "       income_in_k  \n",
       "count    10.000000  \n",
       "mean     49.800000  \n",
       "std      10.850499  \n",
       "min      30.000000  \n",
       "25%      41.250000  \n",
       "50%      52.500000  \n",
       "75%      56.750000  \n",
       "max      65.000000  "
      ]
     },
     "execution_count": 75,
     "metadata": {},
     "output_type": "execute_result"
    }
   ],
   "source": [
    "city_table.describe()"
   ]
  },
  {
   "cell_type": "markdown",
   "metadata": {},
   "source": [
    "# Grouping Data"
   ]
  },
  {
   "cell_type": "markdown",
   "metadata": {},
   "source": [
    "We have cities from three States and thus we may be interested in looking at the average per State.\n",
    "\n",
    "The first thing to do is group the data by state:"
   ]
  },
  {
   "cell_type": "code",
   "execution_count": 76,
   "metadata": {
    "collapsed": true
   },
   "outputs": [],
   "source": [
    "cty_table_by_state = city_table.groupby('states') "
   ]
  },
  {
   "cell_type": "code",
   "execution_count": 77,
   "metadata": {
    "collapsed": false
   },
   "outputs": [
    {
     "data": {
      "text/plain": [
       "pandas.core.groupby.DataFrameGroupBy"
      ]
     },
     "execution_count": 77,
     "metadata": {},
     "output_type": "execute_result"
    }
   ],
   "source": [
    "type(cty_table_by_state)"
   ]
  },
  {
   "cell_type": "code",
   "execution_count": 79,
   "metadata": {
    "collapsed": false
   },
   "outputs": [
    {
     "data": {
      "text/plain": [
       "states\n",
       "FL    2\n",
       "GA    5\n",
       "NY    3\n",
       "dtype: int64"
      ]
     },
     "execution_count": 79,
     "metadata": {},
     "output_type": "execute_result"
    }
   ],
   "source": [
    "cty_table_by_state.size()"
   ]
  },
  {
   "cell_type": "markdown",
   "metadata": {},
   "source": [
    "We can now define a function to calculate the mean:"
   ]
  },
  {
   "cell_type": "code",
   "execution_count": null,
   "metadata": {
    "collapsed": false
   },
   "outputs": [],
   "source": [
    "def my_mean(x):\n",
    "    return x.mean()"
   ]
  },
  {
   "cell_type": "markdown",
   "metadata": {},
   "source": [
    "Let us apply the function to the groupped dataframe to obtain the average city income by State:"
   ]
  },
  {
   "cell_type": "code",
   "execution_count": null,
   "metadata": {
    "collapsed": false
   },
   "outputs": [],
   "source": [
    "avg_city_income_by_state = cty_table_by_state['income_in_k'].apply(my_mean)"
   ]
  },
  {
   "cell_type": "code",
   "execution_count": null,
   "metadata": {
    "collapsed": false
   },
   "outputs": [],
   "source": [
    "avg_city_income_by_state"
   ]
  },
  {
   "cell_type": "markdown",
   "metadata": {},
   "source": [
    "What is happening here?\n",
    "\n",
    "Since the dataframe has been groupped by State, the function `my_mean` is applied to each individual group, giving us the average for each State, all in one line of code!\n",
    "\n",
    "We can do the same to obtain the average city population by State:"
   ]
  },
  {
   "cell_type": "code",
   "execution_count": null,
   "metadata": {
    "collapsed": true
   },
   "outputs": [],
   "source": [
    "avg_city_pop_by_state  = cty_table_by_state['pop_in_millions'].apply(my_mean)"
   ]
  },
  {
   "cell_type": "code",
   "execution_count": null,
   "metadata": {
    "collapsed": false
   },
   "outputs": [],
   "source": [
    "avg_city_pop_by_state"
   ]
  },
  {
   "cell_type": "markdown",
   "metadata": {
    "collapsed": true
   },
   "source": [
    "Finally, let us see the descriptive stats for each State. We can do this with the `describe` method."
   ]
  },
  {
   "cell_type": "code",
   "execution_count": null,
   "metadata": {
    "collapsed": false
   },
   "outputs": [],
   "source": [
    "cty_table_by_state.describe()"
   ]
  },
  {
   "cell_type": "markdown",
   "metadata": {},
   "source": [
    "# Visualising data\n",
    "\n",
    "### Question\n",
    "\n",
    "Why do you think this is important for?"
   ]
  },
  {
   "cell_type": "markdown",
   "metadata": {},
   "source": [
    "### Question\n",
    "\n",
    "From the discussion about Python libraries, what library may be useful here?\n",
    "\n",
    "Let us also import the matplotlib library:"
   ]
  },
  {
   "cell_type": "markdown",
   "metadata": {},
   "source": [
    "We can display the plots in the notebook with the following command:\n",
    "    "
   ]
  },
  {
   "cell_type": "code",
   "execution_count": 80,
   "metadata": {
    "collapsed": false
   },
   "outputs": [
    {
     "name": "stdout",
     "output_type": "stream",
     "text": [
      "Populating the interactive namespace from numpy and matplotlib\n"
     ]
    }
   ],
   "source": [
    "%pylab inline"
   ]
  },
  {
   "cell_type": "markdown",
   "metadata": {},
   "source": [
    "Remember where you have seen this before?\n",
    "\n",
    "`pylab` is part of `matplotlib` and it provides us with a MATLAB like environment. \n",
    "\n",
    "`matplotlib` is a plotting library for the Python programming language and its numerical mathematics extension NumPy. It provides an object-oriented API for embedding plots into applications using general-purpose GUI toolkits \n",
    "\n",
    "matplotlib has a number of dependencies, among them `numpy` which it imports under the common alias `np`."
   ]
  },
  {
   "cell_type": "code",
   "execution_count": 81,
   "metadata": {
    "collapsed": true
   },
   "outputs": [],
   "source": [
    "import matplotlib.pyplot as plt"
   ]
  },
  {
   "cell_type": "code",
   "execution_count": 82,
   "metadata": {
    "collapsed": false
   },
   "outputs": [
    {
     "data": {
      "text/plain": [
       "<matplotlib.axes._subplots.AxesSubplot at 0x115a0e190>"
      ]
     },
     "execution_count": 82,
     "metadata": {},
     "output_type": "execute_result"
    },
    {
     "data": {
      "image/png": "[encoded data removed]",
      "text/plain": [
       "<matplotlib.figure.Figure at 0x114f54d90>"
      ]
     },
     "metadata": {},
     "output_type": "display_data"
    }
   ],
   "source": [
    "city_table['income_in_k'].plot(kind='bar')"
   ]
  },
  {
   "cell_type": "code",
   "execution_count": null,
   "metadata": {
    "collapsed": true
   },
   "outputs": [],
   "source": []
  }
 ],
 "metadata": {
  "anaconda-cloud": {},
  "kernelspec": {
   "display_name": "Python 2",
   "language": "python",
   "name": "python2"
  },
  "language_info": {
   "codemirror_mode": {
    "name": "ipython",
    "version": 2
   },
   "file_extension": ".py",
   "mimetype": "text/x-python",
   "name": "python",
   "nbconvert_exporter": "python",
   "pygments_lexer": "ipython2",
   "version": "2.7.11"
  }
 },
 "nbformat": 4,
 "nbformat_minor": 0
}
